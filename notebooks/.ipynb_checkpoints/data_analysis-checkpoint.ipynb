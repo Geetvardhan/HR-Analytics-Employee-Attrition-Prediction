{
 "cells": [
  {
   "cell_type": "code",
   "execution_count": null,
   "id": "1ed249db-9ebc-4bc8-9d07-a76e1a7c8fa2",
   "metadata": {
    "scrolled": true
   },
   "outputs": [],
   "source": [
    "import pandas as pd\n",
    "import matplotlib.pyplot as plt\n",
    "import seaborn as sns\n",
    "data_path = 'D:\\HR_Analytics_Attrition_Prediction\\data/WA_Fn-UseC_-HR-Employee-Attrition.csv'  # Adjust path if needed\n",
    "df = pd.read_csv(data_path)\n",
    "\n",
    "# Display basic information\n",
    "print(\"Dataset Shape:\", df.shape)\n",
    "print(\"Columns:\\n\", df.columns)\n",
    "print(\"\\nMissing Values:\\n\", df.isnull().sum())\n",
    "\n",
    "# View the first few rows\n",
    "df.head()"
   ]
  },
  {
   "cell_type": "code",
   "execution_count": null,
   "id": "923aeb40-b620-4718-8ab2-64fef49c3751",
   "metadata": {},
   "outputs": [],
   "source": [
    "sns.countplot(data=df, x='Attrition')\n",
    "plt.title('Attrition Distribution')\n",
    "plt.show()\n"
   ]
  },
  {
   "cell_type": "code",
   "execution_count": null,
   "id": "73808207-2837-47dc-9fbc-9172e6c6f365",
   "metadata": {},
   "outputs": [],
   "source": [
    "sns.countplot(data=df, x='Department', hue='Attrition')\n",
    "plt.title('Attrition by Department')\n",
    "plt.xticks(rotation=45)\n",
    "plt.show()\n"
   ]
  },
  {
   "cell_type": "code",
   "execution_count": null,
   "id": "ef560096-62f1-4419-bdca-7a40b2ca09b9",
   "metadata": {},
   "outputs": [],
   "source": [
    "sns.histplot(data=df, x='MonthlyIncome', hue='Attrition', kde=True)\n",
    "plt.title('Monthly Income Distribution')\n",
    "plt.show()\n"
   ]
  },
  {
   "cell_type": "code",
   "execution_count": null,
   "id": "4eb2afe2-8240-4728-945a-900994fcb98f",
   "metadata": {},
   "outputs": [],
   "source": [
    "# Basic exploration\n",
    "print(\"Dataset Shape:\", df.shape)\n",
    "print(\"Column Names:\", df.columns)\n",
    "print(\"First 5 Rows:\\n\", df.head())\n",
    "\n",
    "# Check for missing values\n",
    "print(\"\\nMissing Values:\\n\", df.isnull().sum())\n",
    "\n",
    "# Summary statistics\n",
    "print(\"\\nSummary Statistics:\\n\", df.describe())\n"
   ]
  },
  {
   "cell_type": "code",
   "execution_count": null,
   "id": "e71f6a60-39f7-443b-a95b-08fb417d1442",
   "metadata": {},
   "outputs": [],
   "source": [
    "# Correct file path\n",
    "data_path = r'D:\\HR_Analytics_Attrition_Prediction\\data\\WA_Fn-UseC_-HR-Employee-Attrition.csv'\n",
    "\n",
    "# Load the dataset\n",
    "import pandas as pd\n",
    "df = pd.read_csv(data_path)\n",
    "print(\"Dataset loaded successfully!\")\n"
   ]
  },
  {
   "cell_type": "code",
   "execution_count": null,
   "id": "44c5d700-65b6-453a-811a-baa8353eda5e",
   "metadata": {},
   "outputs": [],
   "source": [
    "df.dropna(inplace=True)\n",
    "print(df)\n"
   ]
  },
  {
   "cell_type": "code",
   "execution_count": null,
   "id": "6dc82e12-711e-4327-b346-1a9e5d116816",
   "metadata": {},
   "outputs": [],
   "source": [
    "print(df.shape)\n"
   ]
  },
  {
   "cell_type": "code",
   "execution_count": null,
   "id": "060226b8-1907-4468-a98e-f2da16acaef6",
   "metadata": {},
   "outputs": [],
   "source": [
    "print(df.isnull().sum())\n"
   ]
  },
  {
   "cell_type": "code",
   "execution_count": null,
   "id": "4d77c18f-1b84-46b4-9888-f84e0406a23c",
   "metadata": {},
   "outputs": [],
   "source": [
    "# Check for duplicates\n",
    "print(\"Number of duplicate rows:\", df.duplicated().sum())\n",
    "\n",
    "# Drop duplicates if any\n",
    "df.drop_duplicates(inplace=True)\n"
   ]
  },
  {
   "cell_type": "code",
   "execution_count": null,
   "id": "de578965-c174-445f-ae26-3f0016442708",
   "metadata": {},
   "outputs": [],
   "source": [
    "print(df.dtypes)\n"
   ]
  },
  {
   "cell_type": "code",
   "execution_count": null,
   "id": "c0105777-5a69-46e8-8d43-b50e26dc7f3d",
   "metadata": {},
   "outputs": [],
   "source": [
    "from sklearn.model_selection import train_test_split\n",
    "\n",
    "# Features (X) and Target (y)\n",
    "X = df.drop(columns=['Attrition'])  # All columns except the target\n",
    "y = df['Attrition']                # Target column\n",
    "\n",
    "# Split the data\n",
    "X_train, X_test, y_train, y_test = train_test_split(X, y, test_size=0.3, random_state=42)\n"
   ]
  },
  {
   "cell_type": "code",
   "execution_count": null,
   "id": "48138ca9-efaf-47ad-93c9-1cb26f25b7a9",
   "metadata": {},
   "outputs": [],
   "source": [
    "print(\"Training Features Shape:\", X_train.shape)\n",
    "print(\"Testing Features Shape:\", X_test.shape)\n",
    "print(\"Training Target Shape:\", y_train.shape)\n",
    "print(\"Testing Target Shape:\", y_test.shape)\n"
   ]
  },
  {
   "cell_type": "code",
   "execution_count": null,
   "id": "0ef5714c-8d06-4dd7-9e84-36e2f4741d42",
   "metadata": {},
   "outputs": [],
   "source": [
    "print(df.dtypes)\n"
   ]
  },
  {
   "cell_type": "code",
   "execution_count": null,
   "id": "7cd15ad4-b440-473e-88e3-e7b085ce2a30",
   "metadata": {},
   "outputs": [],
   "source": [
    "from sklearn.preprocessing import LabelEncoder\n",
    "\n",
    "# Initialize LabelEncoder\n",
    "le = LabelEncoder()\n",
    "\n",
    "# Binary columns to encode\n",
    "binary_cols = ['Attrition', 'Gender', 'Over18', 'OverTime']\n",
    "\n",
    "# Apply Label Encoding\n",
    "for col in binary_cols:\n",
    "    df[col] = le.fit_transform(df[col])\n",
    "    # Check the first few rows of the updated columns\n",
    "print(df[binary_cols].head())\n",
    "\n"
   ]
  },
  {
   "cell_type": "code",
   "execution_count": null,
   "id": "76266ac0-21df-4a1f-97c0-fc9c3938a88b",
   "metadata": {},
   "outputs": [],
   "source": [
    "# Multi-categorical columns\n",
    "multi_cat_cols = ['BusinessTravel', 'Department', 'EducationField', 'JobRole', 'MaritalStatus']\n",
    "\n",
    "# Apply One-Hot Encoding\n",
    "df = pd.get_dummies(df, columns=multi_cat_cols, drop_first=True)\n",
    "\n",
    "# Check the first few rows of the updated dataset\n",
    "print(df.head())\n"
   ]
  },
  {
   "cell_type": "code",
   "execution_count": null,
   "id": "6a1bcf59-1471-4332-ac01-f1e35e0a6a9e",
   "metadata": {},
   "outputs": [],
   "source": [
    "print(df.dtypes)\n"
   ]
  },
  {
   "cell_type": "code",
   "execution_count": null,
   "id": "3128527e-8784-41b2-8faa-25f826bd57ab",
   "metadata": {},
   "outputs": [],
   "source": [
    "X = df.drop(columns=['Attrition'])  # Features: everything except 'Attrition'\n",
    "y = df['Attrition']                # Target: 'Attrition'\n",
    "\n",
    "from sklearn.model_selection import train_test_split\n",
    "X_train, X_test, y_train, y_test = train_test_split(X, y, test_size=0.3, random_state=42)\n",
    "print(\"Training set size:\", X_train.shape)\n",
    "print(\"Testing set size:\", X_test.shape)\n",
    "\n"
   ]
  },
  {
   "cell_type": "code",
   "execution_count": null,
   "id": "8d2be350-b74c-419b-9572-a7ee3c058887",
   "metadata": {},
   "outputs": [],
   "source": [
    "from sklearn.linear_model import LogisticRegression\n",
    "from sklearn.metrics import accuracy_score, classification_report, confusion_matrix\n",
    "\n",
    "# Initialize the model\n",
    "logistic_model = LogisticRegression()\n",
    "\n",
    "# Train the model\n",
    "logistic_model.fit(X_train, y_train)\n",
    "\n",
    "# Predict on the test set\n",
    "y_pred = logistic_model.predict(X_test)\n",
    "\n",
    "# Evaluate performance\n",
    "print(\"Accuracy:\", accuracy_score(y_test, y_pred))\n",
    "print(\"Classification Report:\\n\", classification_report(y_test, y_pred))\n",
    "print(\"Confusion Matrix:\\n\", confusion_matrix(y_test, y_pred))\n"
   ]
  },
  {
   "cell_type": "code",
   "execution_count": null,
   "id": "597f6e35-f7fe-4922-9c48-61c22220f362",
   "metadata": {},
   "outputs": [],
   "source": [
    "from sklearn.ensemble import RandomForestClassifier\n",
    "from sklearn.metrics import accuracy_score, classification_report, confusion_matrix\n",
    "\n",
    "# Initialize the model\n",
    "rf_model = RandomForestClassifier(class_weight='balanced', random_state=42)\n",
    "\n",
    "# Train the model\n",
    "rf_model.fit(X_train, y_train)\n",
    "\n",
    "print(\"Random Forest training complete!\")\n"
   ]
  },
  {
   "cell_type": "code",
   "execution_count": null,
   "id": "70ae135c-8e27-4c36-a56d-d0106b4bdff1",
   "metadata": {},
   "outputs": [],
   "source": [
    "# Predict on the test set\n",
    "y_pred_rf = rf_model.predict(X_test)"
   ]
  },
  {
   "cell_type": "code",
   "execution_count": null,
   "id": "5f160fd4-40a7-47ce-9e3b-9ae3638957ae",
   "metadata": {},
   "outputs": [],
   "source": [
    "# Evaluate performance\n",
    "print(\"Accuracy:\", accuracy_score(y_test, y_pred_rf))\n",
    "print(\"Classification Report:\\n\", classification_report(y_test, y_pred_rf))\n",
    "print(\"Confusion Matrix:\\n\", confusion_matrix(y_test, y_pred_rf))\n"
   ]
  },
  {
   "cell_type": "code",
   "execution_count": null,
   "id": "9f497cc1-c8ba-4ab2-a692-47538bdafc66",
   "metadata": {},
   "outputs": [],
   "source": [
    "!pip install xgboost"
   ]
  },
  {
   "cell_type": "code",
   "execution_count": null,
   "id": "ad3ac43e-4914-4330-b453-a8a9a6b8278d",
   "metadata": {},
   "outputs": [],
   "source": [
    "import xgboost\n",
    "print(\"XGBoost installed successfully!\")\n"
   ]
  },
  {
   "cell_type": "code",
   "execution_count": null,
   "id": "10c102c5-c8db-4e4b-8807-e929b82bb1d5",
   "metadata": {},
   "outputs": [],
   "source": [
    "from xgboost import XGBClassifier\n",
    "from sklearn.metrics import accuracy_score, classification_report, confusion_matrix\n",
    "\n",
    "# Initialize XGBoost with scale_pos_weight to handle class imbalance\n",
    "xgb_model = XGBClassifier(scale_pos_weight=len(y_train[y_train == 0]) / len(y_train[y_train == 1]), random_state=42)\n",
    "\n",
    "# Train the model\n",
    "xgb_model.fit(X_train, y_train)\n",
    "\n",
    "# Predict on the test set\n",
    "y_pred_xgb = xgb_model.predict(X_test)\n",
    "\n",
    "# Evaluate performance\n",
    "print(\"Accuracy:\", accuracy_score(y_test, y_pred_xgb))\n",
    "print(\"Classification Report:\\n\", classification_report(y_test, y_pred_xgb))\n",
    "print(\"Confusion Matrix:\\n\", confusion_matrix(y_test, y_pred_xgb))\n"
   ]
  },
  {
   "cell_type": "code",
   "execution_count": null,
   "id": "28f92c03-0c1f-4103-b3fb-464d77c9648e",
   "metadata": {},
   "outputs": [],
   "source": [
    "from sklearn.model_selection import GridSearchCV\n",
    "from xgboost import XGBClassifier\n",
    "\n",
    "# Define parameter grid\n",
    "param_grid = {\n",
    "    'max_depth': [3, 5, 7],\n",
    "    'learning_rate': [0.01, 0.1, 0.2],\n",
    "    'n_estimators': [100, 200, 500],\n",
    "    'scale_pos_weight': [1, 2, 3]\n",
    "}\n",
    "\n",
    "# Initialize XGBoost\n",
    "xgb = XGBClassifier(random_state=42)\n",
    "\n",
    "# Use GridSearchCV to find the best parameters\n",
    "grid_search = GridSearchCV(estimator=xgb, param_grid=param_grid, scoring='f1', cv=3, verbose=2)\n",
    "grid_search.fit(X_train, y_train)\n",
    "\n",
    "# Best parameters\n",
    "print(\"Best Parameters:\", grid_search.best_params_)\n",
    "\n",
    "# Get the best model\n",
    "best_xgb_model = grid_search.best_estimator_\n"
   ]
  },
  {
   "cell_type": "code",
   "execution_count": null,
   "id": "e29cbf49-8d07-45c4-ae24-490942436e9b",
   "metadata": {},
   "outputs": [],
   "source": [
    "from xgboost import XGBClassifier\n",
    "from sklearn.metrics import accuracy_score, classification_report, confusion_matrix\n",
    "\n",
    "# Initialize XGBoost with the best parameters\n",
    "best_xgb_model = XGBClassifier(\n",
    "    learning_rate=0.01,\n",
    "    max_depth=3,\n",
    "    n_estimators=200,\n",
    "    scale_pos_weight=3,\n",
    "    random_state=42\n",
    ")\n",
    "\n",
    "# Train the model\n",
    "best_xgb_model.fit(X_train, y_train)\n",
    "\n",
    "# Predict on the test set\n",
    "y_pred_tuned = best_xgb_model.predict(X_test)\n"
   ]
  },
  {
   "cell_type": "code",
   "execution_count": null,
   "id": "0f40d09b-06ea-4829-b4b2-2ca37a6e7193",
   "metadata": {},
   "outputs": [],
   "source": [
    "# Evaluate performance\n",
    "print(\"Accuracy:\", accuracy_score(y_test, y_pred_tuned))\n",
    "print(\"Classification Report:\\n\", classification_report(y_test, y_pred_tuned))\n",
    "print(\"Confusion Matrix:\\n\", confusion_matrix(y_test, y_pred_tuned))\n"
   ]
  },
  {
   "cell_type": "code",
   "execution_count": null,
   "id": "ba1e54d2-a41a-4c07-af5d-2ddda5b95ae1",
   "metadata": {},
   "outputs": [],
   "source": [
    "!pip install imbalanced-learn\n"
   ]
  },
  {
   "cell_type": "code",
   "execution_count": null,
   "id": "25ba055c-485e-40bf-9025-30d6b7fda28e",
   "metadata": {},
   "outputs": [],
   "source": [
    "import sklearn\n",
    "import imblearn\n",
    "from imblearn.over_sampling import SMOTE\n",
    "\n",
    "print(\"Scikit-learn version:\", sklearn.__version__)\n",
    "print(\"Imbalanced-learn version:\", imblearn.__version__)\n",
    "print(\"SMOTE imported successfully!\")\n"
   ]
  },
  {
   "cell_type": "code",
   "execution_count": null,
   "id": "fd140200-2471-4580-b393-11c4d6b874b5",
   "metadata": {},
   "outputs": [],
   "source": [
    "from sklearn.model_selection import train_test_split\n",
    "\n",
    "# Define features (X) and target (y)\n",
    "X = df.drop(columns=['Attrition'])  # Replace 'Attrition' with the actual target column name\n",
    "y = df['Attrition']\n",
    "\n",
    "# Split data into training and testing sets\n",
    "X_train, X_test, y_train, y_test = train_test_split(X, y, test_size=0.3, random_state=42)\n",
    "\n",
    "print(\"Data split completed!\")\n",
    "print(f\"Training data shape: {X_train.shape}\")\n",
    "print(f\"Testing data shape: {X_test.shape}\")\n"
   ]
  },
  {
   "cell_type": "code",
   "execution_count": null,
   "id": "f02e4076-a0ec-4feb-b237-2165855ecab2",
   "metadata": {},
   "outputs": [],
   "source": [
    "from sklearn.model_selection import train_test_split\n",
    "\n",
    "# Define features (X) and target (y)\n",
    "X = df.drop(columns=['Attrition'])  # Replace 'Attrition' with the actual target column name\n",
    "y = df['Attrition']\n",
    "\n",
    "# Split data into training and testing sets\n",
    "X_train, X_test, y_train, y_test = train_test_split(X, y, test_size=0.3, random_state=42)\n",
    "\n",
    "print(\"Data split completed!\")\n",
    "print(f\"Training data shape: {X_train.shape}\")\n",
    "print(f\"Testing data shape: {X_test.shape}\")\n"
   ]
  },
  {
   "cell_type": "code",
   "execution_count": null,
   "id": "d841574f-2208-48e7-b135-36ec34c24e53",
   "metadata": {},
   "outputs": [],
   "source": [
    "from imblearn.over_sampling import SMOTE\n",
    "\n",
    "# Apply SMOTE to the training data\n",
    "smote = SMOTE(random_state=42)\n",
    "X_train_smote, y_train_smote = smote.fit_resample(X_train, y_train)\n",
    "\n",
    "print(\"SMOTE applied successfully!\")\n",
    "print(f\"Original training data shape: {X_train.shape}\")\n",
    "print(f\"Resampled training data shape: {X_train_smote.shape}\")\n"
   ]
  },
  {
   "cell_type": "code",
   "execution_count": null,
   "id": "acb789cf-5666-4371-8c45-de9c8af6ca43",
   "metadata": {},
   "outputs": [],
   "source": [
    "print(df.dtypes)\n"
   ]
  },
  {
   "cell_type": "code",
   "execution_count": null,
   "id": "fdafd812-dcbc-4a27-bb8e-f29cba281611",
   "metadata": {},
   "outputs": [],
   "source": [
    "from sklearn.preprocessing import LabelEncoder\n",
    "\n",
    "# Initialize LabelEncoder\n",
    "le = LabelEncoder()\n",
    "\n",
    "# List of binary categorical columns\n",
    "binary_cols = ['Attrition', 'Gender', 'Over18', 'OverTime']\n",
    "\n",
    "# Apply Label Encoding\n",
    "for col in binary_cols:\n",
    "    df[col] = le.fit_transform(df[col])\n",
    "\n",
    "print(\"Binary categorical columns encoded successfully!\")\n"
   ]
  },
  {
   "cell_type": "code",
   "execution_count": null,
   "id": "bc291b2a-9633-424c-8a3c-8dd40457a21d",
   "metadata": {},
   "outputs": [],
   "source": [
    "# One-hot encode multi-class categorical columns\n",
    "multi_class_cols = ['BusinessTravel', 'Department', 'EducationField', 'JobRole', 'MaritalStatus']\n",
    "\n",
    "# Perform one-hot encoding\n",
    "df = pd.get_dummies(df, columns=multi_class_cols, drop_first=True)\n",
    "\n",
    "print(\"Multi-class categorical columns encoded successfully!\")\n"
   ]
  },
  {
   "cell_type": "code",
   "execution_count": null,
   "id": "6b13106f-9ad4-485a-ae83-10745d44f29e",
   "metadata": {},
   "outputs": [],
   "source": [
    "print(df.dtypes)\n"
   ]
  },
  {
   "cell_type": "code",
   "execution_count": null,
   "id": "df03ebde-11a6-4e58-b9fe-1e112cc682a0",
   "metadata": {},
   "outputs": [],
   "source": [
    "# Define features and target\n",
    "X = df.drop(columns=['Attrition'])  # Drop the target column\n",
    "y = df['Attrition']                # Target column\n",
    "\n",
    "# Train-test split\n",
    "from sklearn.model_selection import train_test_split\n",
    "X_train, X_test, y_train, y_test = train_test_split(X, y, test_size=0.3, random_state=42)\n",
    "# Check the shape of the training and testing datasets\n",
    "print(\"X_train shape:\", X_train.shape)\n",
    "print(\"X_test shape:\", X_test.shape)\n",
    "print(\"y_train shape:\", y_train.shape)\n",
    "print(\"y_test shape:\", y_test.shape)\n",
    "\n",
    "# Preview the first few rows of the training data\n",
    "print(\"\\nFirst few rows of X_train:\")\n",
    "print(X_train.head())\n",
    "\n",
    "# Check class distribution in the target variable\n",
    "print(\"\\nClass distribution in y_train:\")\n",
    "print(y_train.value_counts())\n",
    "\n",
    "print(\"\\nClass distribution in y_test:\")\n",
    "print(y_test.value_counts())\n",
    "\n"
   ]
  },
  {
   "cell_type": "code",
   "execution_count": null,
   "id": "ab57e7b4-f3b9-4401-8fcf-1c84466bcc0b",
   "metadata": {
    "scrolled": true
   },
   "outputs": [],
   "source": [
    "from xgboost import XGBClassifier\n",
    "\n",
    "# Reinitialize XGBoost model with the best hyperparameters\n",
    "best_xgb_model = XGBClassifier(\n",
    "    learning_rate=0.01,  # From hyperparameter tuning\n",
    "    max_depth=3,         # From hyperparameter tuning\n",
    "    n_estimators=200,    # From hyperparameter tuning\n",
    "    scale_pos_weight=3,  # From hyperparameter tuning\n",
    "    random_state=42\n",
    ")\n",
    "\n",
    "# Train the model using the SMOTE balanced data\n",
    "best_xgb_model.fit(X_train_smote, y_train_smote)\n",
    "\n",
    "# Evaluate the model on the test data\n",
    "y_pred_smote = best_xgb_model.predict(X_test)\n",
    "\n",
    "# Print evaluation metrics\n",
    "print(\"Accuracy (SMOTE):\", accuracy_score(y_test, y_pred_smote))\n",
    "print(\"\\nClassification Report (SMOTE):\\n\", classification_report(y_test, y_pred_smote))\n",
    "print(\"\\nConfusion Matrix (SMOTE):\\n\", confusion_matrix(y_test, y_pred_smote))\n"
   ]
  },
  {
   "cell_type": "code",
   "execution_count": null,
   "id": "637ff8d5-ce7b-4681-9719-40b6b676239e",
   "metadata": {},
   "outputs": [],
   "source": [
    "# Get probabilities instead of class predictions\n",
    "y_prob_smote = best_xgb_model.predict_proba(X_test)[:, 1]  # Probabilities for class '1'\n",
    "\n",
    "# Set a new threshold (e.g., 0.3)\n",
    "threshold = 0.3\n",
    "y_pred_adjusted = (y_prob_smote >= threshold).astype(int)\n",
    "\n",
    "# Evaluate the model with the new threshold\n",
    "print(\"Accuracy (Adjusted Threshold):\", accuracy_score(y_test, y_pred_adjusted))\n",
    "print(\"Classification Report (Adjusted Threshold):\\n\", classification_report(y_test, y_pred_adjusted))\n",
    "print(\"Confusion Matrix (Adjusted Threshold):\\n\", confusion_matrix(y_test, y_pred_adjusted))\n"
   ]
  },
  {
   "cell_type": "code",
   "execution_count": null,
   "id": "8a2d3d71-ce75-4418-b10e-56ba7e15b579",
   "metadata": {},
   "outputs": [],
   "source": [
    "from sklearn.metrics import precision_recall_curve\n",
    "import matplotlib.pyplot as plt\n",
    "\n",
    "precisions, recalls, thresholds = precision_recall_curve(y_test, y_prob_smote)\n",
    "\n",
    "plt.figure(figsize=(8, 6))\n",
    "plt.plot(thresholds, precisions[:-1], label='Precision')\n",
    "plt.plot(thresholds, recalls[:-1], label='Recall')\n",
    "plt.xlabel('Threshold')\n",
    "plt.ylabel('Score')\n",
    "plt.title('Precision-Recall Curve')\n",
    "plt.legend()\n",
    "plt.grid()\n",
    "plt.show()\n"
   ]
  }
 ],
 "metadata": {
  "kernelspec": {
   "display_name": "Python 3 (ipykernel)",
   "language": "python",
   "name": "python3"
  },
  "language_info": {
   "codemirror_mode": {
    "name": "ipython",
    "version": 3
   },
   "file_extension": ".py",
   "mimetype": "text/x-python",
   "name": "python",
   "nbconvert_exporter": "python",
   "pygments_lexer": "ipython3",
   "version": "3.10.11"
  }
 },
 "nbformat": 4,
 "nbformat_minor": 5
}
